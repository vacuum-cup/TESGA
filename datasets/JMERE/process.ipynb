{
 "cells": [
  {
   "cell_type": "code",
   "execution_count": 2,
   "metadata": {},
   "outputs": [
    {
     "name": "stdout",
     "output_type": "stream",
     "text": [
      "训练集数据条数： 3618\n",
      "每条数据的样式： dict_keys(['token', 'img_id', 'label_list']) \n",
      " {'token': ['The', 'latest', 'Arkham', 'Horror', 'LCG', 'deluxe', 'expansion', 'the', 'Circle', 'Undone', 'has', 'been', 'released', ':'], 'img_id': 'twitter_19_31_16_6.jpg', 'label_list': [[{'beg_ent': {'name': 'Circle Undone', 'pos': [8, 10], 'tags': 'misc'}, 'sec_ent': {'name': 'Arkham Horror LCG', 'pos': [2, 5], 'tags': 'misc'}, 'relation': 'part_of'}]]}\n"
     ]
    }
   ],
   "source": [
    "import json \n",
    "train_data = json.load(open(\"train.json\",'r'))\n",
    "\n",
    "print(\"训练集数据条数：\",len(train_data))\n",
    "print(\"每条数据的样式：\",train_data[0].keys(),\"\\n\",train_data[0])"
   ]
  },
  {
   "cell_type": "code",
   "execution_count": null,
   "metadata": {},
   "outputs": [],
   "source": [
    "#Sort the data set into text triple_list imgid and other forms\n",
    "pro_train_data=[]\n",
    "for d in train_data:\n",
    "    text = \" \".join(d[\"token\"])\n",
    "    # img_id = d[\"img_id\"]\n",
    "    triple_list = []\n",
    "    ent_pair_list = []\n",
    "    for lb in d[\"label_list\"]:\n",
    "        for dl in lb:\n",
    "            triple_list.append([dl[\"beg_ent\"][\"name\"],dl[\"relation\"],dl[\"sec_ent\"][\"name\"],dl[\"beg_ent\"][\"tags\"],dl[\"sec_ent\"][\"tags\"]])\n",
    "            ent_pair_list.append((dl[\"beg_ent\"][\"pos\"],dl[\"sec_ent\"][\"pos\"]))\n",
    "    \n",
    "    sample = {\"text\":text,\"img_id\":d[\"img_id\"],\"triple_list\":triple_list,\"ent_pair_list\":ent_pair_list}\n",
    "    # print(sample)\n",
    "    pro_train_data.append(sample)\n",
    "\n",
    "\n",
    "with open(\"train_triples.json\", 'w') as json_file:\n",
    "    json.dump(pro_train_data, json_file,indent=4)\n",
    "\n",
    "json_file.close()\n",
    "    "
   ]
  },
  {
   "cell_type": "code",
   "execution_count": 4,
   "metadata": {},
   "outputs": [
    {
     "name": "stdout",
     "output_type": "stream",
     "text": [
      "测试集数据条数： 475\n",
      "每条数据的样式： dict_keys(['token', 'img_id', 'label_list']) \n",
      " {'token': ['RT', '@DenisLaw_WFT', ':', 'New', 'breed', 'of', 'Crocodile', 'discovered', 'in', 'South', 'Wales', 'woodland'], 'img_id': 'twitter_stream_2018_10_10_13_0_2_142.jpg', 'label_list': [[{'beg_ent': {'name': 'Crocodile', 'pos': [6, 7], 'tags': 'misc'}, 'sec_ent': {'name': 'South Wales', 'pos': [9, 11], 'tags': 'loc'}, 'relation': 'held_on'}]]}\n"
     ]
    }
   ],
   "source": [
    "import json \n",
    "test_data = json.load(open(\"test.json\",'r'))\n",
    "\n",
    "print(\"测试集数据条数：\",len(test_data))\n",
    "print(\"每条数据的样式：\",test_data[0].keys(),\"\\n\",test_data[0])\n",
    "# 将测试集整理成 text  triple_list imgid 等形式\n",
    "\n",
    "pro_test_data=[]\n",
    "for d in test_data:\n",
    "    text = \" \".join(d[\"token\"])\n",
    "    # img_id = d[\"img_id\"]\n",
    "    triple_list = []\n",
    "    ent_pair_list = []\n",
    "    for lb in d[\"label_list\"]:\n",
    "        for dl in lb:\n",
    "            triple_list.append([dl[\"beg_ent\"][\"name\"],dl[\"relation\"],dl[\"sec_ent\"][\"name\"],dl[\"beg_ent\"][\"tags\"],dl[\"sec_ent\"][\"tags\"]])\n",
    "            ent_pair_list.append((dl[\"beg_ent\"][\"pos\"],dl[\"sec_ent\"][\"pos\"]))\n",
    "    \n",
    "    \n",
    "    sample = {\"text\":text,\"img_id\":d[\"img_id\"],\"triple_list\":triple_list,\"ent_pair_list\":ent_pair_list}\n",
    "    # print(sample)\n",
    "    pro_test_data.append(sample)\n",
    "\n",
    "# 将列表写入JSON文件\n",
    "with open(\"test_triples.json\", 'w') as json_file:\n",
    "    json.dump(pro_test_data, json_file,indent=4)\n",
    "\n",
    "json_file.close()"
   ]
  },
  {
   "cell_type": "code",
   "execution_count": 5,
   "metadata": {},
   "outputs": [
    {
     "name": "stdout",
     "output_type": "stream",
     "text": [
      "val集数据条数： 496\n",
      "每条数据的样式： dict_keys(['token', 'img_id', 'label_list']) \n",
      " {'token': ['RT', '@Am_Blujay', ':', 'Ronaldo', 'trying', 'to', 'see', 'if', 'Messi', 'is', 'human', '#', 'ElClasico'], 'img_id': 'twitter_stream_2018_05_07_1_0_2_45.jpg', 'label_list': [[{'beg_ent': {'name': 'Ronaldo', 'pos': [3, 4], 'tags': 'per'}, 'sec_ent': {'name': 'Messi', 'pos': [8, 9], 'tags': 'per'}, 'relation': 'peer'}]]}\n"
     ]
    }
   ],
   "source": [
    "import json \n",
    "val_data = json.load(open(\"val.json\",'r'))\n",
    "\n",
    "print(\"val集数据条数：\",len(val_data))\n",
    "print(\"每条数据的样式：\",val_data[0].keys(),\"\\n\",val_data[0])\n",
    "# 将val整理成 text  triple_list imgid 等形式\n",
    " \n",
    "pro_val_data=[]\n",
    "for d in val_data:\n",
    "    text = \" \".join(d[\"token\"])\n",
    "    triple_list = []\n",
    "    ent_pair_list = []\n",
    "    for lb in d[\"label_list\"]:\n",
    "        for dl in lb:\n",
    "            triple_list.append([dl[\"beg_ent\"][\"name\"],dl[\"relation\"],dl[\"sec_ent\"][\"name\"],dl[\"beg_ent\"][\"tags\"],dl[\"sec_ent\"][\"tags\"]])\n",
    "            ent_pair_list.append((dl[\"beg_ent\"][\"pos\"],dl[\"sec_ent\"][\"pos\"]))\n",
    "    \n",
    "    \n",
    "    sample = {\"text\":text,\"img_id\":d[\"img_id\"],\"triple_list\":triple_list,\"ent_pair_list\":ent_pair_list}\n",
    "    # print(sample)\n",
    "    pro_val_data.append(sample)\n",
    "\n",
    "# 将列表写入JSON文件\n",
    "with open(\"val_triples.json\", 'w') as json_file:\n",
    "    json.dump(pro_val_data, json_file,indent=4)\n",
    "    \n",
    "json_file.close()"
   ]
  },
  {
   "cell_type": "code",
   "execution_count": 34,
   "metadata": {},
   "outputs": [
    {
     "name": "stdout",
     "output_type": "stream",
     "text": [
      "训练集实体总数： 9006  实体集合大小: 5465\n",
      "实体类型总数： 4  关系类型总数: 21\n",
      "{'org', 'per', 'loc', 'misc'}\n",
      "{'couple', 'part_of', 'alumi', 'race', 'locate_at', 'siblings', 'held_on', 'contain', 'nationality', 'religion', 'member_of', 'place_of_birth', 'place_of_residence', 'subsidiary', 'present_in', 'awarded', 'parent', 'neighbor', 'peer', 'charges', 'alternate_names'}\n"
     ]
    }
   ],
   "source": [
    "# 相关数据的统计\n",
    "train_entitys = []\n",
    "ent_types = set()\n",
    "relation_types = set()\n",
    "for dt in pro_train_data:\n",
    "    for d in dt[\"triple_list\"]:\n",
    "        train_entitys.append(d[0])\n",
    "        train_entitys.append(d[2])\n",
    "        ent_types.add(d[3])\n",
    "        ent_types.add(d[4])\n",
    "        relation_types.add(d[1])\n",
    "\n",
    "print(\"训练集实体总数：\",len(train_entitys),\" 实体集合大小:\",len(set(train_entitys)))\n",
    "print(\"实体类型总数：\",len(ent_types),\" 关系类型总数:\",len(relation_types))\n",
    "print(ent_types)\n",
    "print(relation_types)"
   ]
  },
  {
   "cell_type": "code",
   "execution_count": 35,
   "metadata": {},
   "outputs": [],
   "source": [
    "rel2idx = {}\n",
    "i =0\n",
    "for r in relation_types:\n",
    "    rel2idx[str(r)]=i\n",
    "    i+=1\n",
    "\n",
    "# 将列表写入JSON文件\n",
    "with open(\"rel2idx.json\", 'w') as json_file:\n",
    "    json.dump(rel2idx, json_file,indent=4)\n",
    "\n",
    "json_file.close()"
   ]
  },
  {
   "cell_type": "code",
   "execution_count": 27,
   "metadata": {},
   "outputs": [
    {
     "name": "stdout",
     "output_type": "stream",
     "text": [
      "test实体总数： 1280  实体集合大小: 914\n",
      "实体类型总数： 4  关系类型总数: 19\n",
      "{'org', 'per', 'loc', 'misc'}\n",
      "{'couple', 'part_of', 'locate_at', 'siblings', 'held_on', 'contain', 'nationality', 'religion', 'member_of', 'place_of_birth', 'subsidiary', 'place_of_residence', 'present_in', 'awarded', 'parent', 'neighbor', 'peer', 'charges', 'alternate_names'}\n"
     ]
    }
   ],
   "source": [
    "# 相关数据的统计\n",
    "test_entitys = []\n",
    "ent_types = set()\n",
    "relation_types = set()\n",
    "for dt in pro_test_data:\n",
    "    for d in dt[\"triple_list\"]:\n",
    "        test_entitys.append(d[0])\n",
    "        test_entitys.append(d[2])\n",
    "        ent_types.add(d[3])\n",
    "        ent_types.add(d[4])\n",
    "        relation_types.add(d[1])\n",
    "\n",
    "print(\"test实体总数：\",len(test_entitys),\" 实体集合大小:\",len(set(test_entitys)))\n",
    "print(\"实体类型总数：\",len(ent_types),\" 关系类型总数:\",len(relation_types))\n",
    "print(ent_types)\n",
    "print(relation_types)"
   ]
  },
  {
   "cell_type": "code",
   "execution_count": 30,
   "metadata": {},
   "outputs": [
    {
     "name": "stdout",
     "output_type": "stream",
     "text": [
      "val实体总数： 1248  实体集合大小: 945\n",
      "实体类型总数： 4  关系类型总数: 21\n",
      "{'per', 'misc', 'org', 'loc'}\n",
      "{'couple', 'part_of', 'alumi', 'race', 'locate_at', 'siblings', 'held_on', 'contain', 'nationality', 'religion', 'member_of', 'place_of_birth', 'subsidiary', 'place_of_residence', 'present_in', 'awarded', 'parent', 'neighbor', 'peer', 'charges', 'alternate_names'}\n"
     ]
    }
   ],
   "source": [
    "# 相关数据的统计\n",
    "val_entitys = []\n",
    "ent_types = set()\n",
    "relation_types = set()\n",
    "for dt in pro_val_data:\n",
    "    for d in dt[\"triple_list\"]:\n",
    "        val_entitys.append(d[0])\n",
    "        val_entitys.append(d[2])\n",
    "        ent_types.add(d[3])\n",
    "        ent_types.add(d[4])\n",
    "        relation_types.add(d[1])\n",
    "\n",
    "print(\"val实体总数：\",len(val_entitys),\" 实体集合大小:\",len(set(val_entitys)))\n",
    "print(\"实体类型总数：\",len(ent_types),\" 关系类型总数:\",len(relation_types))\n",
    "print(ent_types)\n",
    "print(relation_types)"
   ]
  },
  {
   "cell_type": "markdown",
   "metadata": {},
   "source": [
    "#  在文件中加上  BLIP 的img caption "
   ]
  },
  {
   "cell_type": "code",
   "execution_count": 6,
   "metadata": {},
   "outputs": [],
   "source": [
    "from PIL import Image\n",
    "import torch\n",
    "from torchvision import transforms\n",
    "from torchvision.transforms.functional import InterpolationMode\n",
    "import sys\n",
    "sys.path.append('../../Blip/')  # 添加上级目录到sys.path\n",
    "from models.blip import blip_decoder\n",
    "from models.blip_itm import blip_itm\n",
    "\n",
    "\n",
    "def load_demo_image(image_size,img_path,device):\n",
    "    \n",
    "    raw_image = Image.open(img_path) \n",
    "\n",
    "    w,h = raw_image.size\n",
    "    # display(raw_image.resize((w//5,h//5)))\n",
    "    \n",
    "    transform = transforms.Compose([\n",
    "        transforms.Resize((image_size,image_size),interpolation=InterpolationMode.BICUBIC),\n",
    "        transforms.ToTensor(),\n",
    "        transforms.Normalize((0.48145466, 0.4578275, 0.40821073), (0.26862954, 0.26130258, 0.27577711))\n",
    "        ]) \n",
    "    image = transform(raw_image).unsqueeze(0).to(device)   \n",
    "    return image\n",
    "\n"
   ]
  },
  {
   "cell_type": "code",
   "execution_count": null,
   "metadata": {},
   "outputs": [],
   "source": [
    "image_size = 384\n",
    "\n",
    "# 模型加载\n",
    "device = torch.device('cuda' if torch.cuda.is_available() else 'cpu')\n",
    "model_url = '/home/users/wgx/Mult_m_NRE/multi-joint-ner-re/Blip/MODELS/model_base_caption_capfilt_large.pth'\n",
    "model = blip_decoder(pretrained=model_url, image_size=image_size, vit='base')\n",
    "model.eval()\n",
    "model = model.to(device)"
   ]
  },
  {
   "cell_type": "code",
   "execution_count": 2,
   "metadata": {},
   "outputs": [
    {
     "name": "stdout",
     "output_type": "stream",
     "text": [
      "训练集数据条数： 3618\n",
      "每条数据的样式： dict_keys(['text', 'img_id', 'triple_list', 'ent_pair_list']) \n",
      " {'text': 'The latest Arkham Horror LCG deluxe expansion the Circle Undone has been released :', 'img_id': 'twitter_19_31_16_6.jpg', 'triple_list': [['Circle Undone', 'part_of', 'Arkham Horror LCG', 'misc', 'misc']], 'ent_pair_list': [[[8, 10], [2, 5]]]}\n"
     ]
    }
   ],
   "source": [
    "import json \n",
    "train_data = json.load(open(\"train_triples.json\",'r'))\n",
    "\n",
    "print(\"训练集数据条数：\",len(train_data))\n",
    "print(\"每条数据的样式：\",train_data[0].keys(),\"\\n\",train_data[0])"
   ]
  },
  {
   "cell_type": "code",
   "execution_count": null,
   "metadata": {},
   "outputs": [],
   "source": [
    "new_train_data = []\n",
    "file_path = \"JMERE_imgs/train/\"\n",
    "image_size = 384\n",
    "\n",
    "for td in train_data:\n",
    "    sample = td\n",
    "    img_path = file_path + td[\"img_id\"]\n",
    "    image = load_demo_image(image_size=image_size,img_path=img_path, device=device)\n",
    "    caption = model.generate(image, sample=False, num_beams=3, max_length=20, min_length=5) \n",
    "    sample[\"img_caption\"] = caption[0]\n",
    "    \n",
    "    # print(sample)\n",
    "    new_train_data.append(sample)\n",
    "    # break\n",
    "    \n",
    "with open(\"JMERE_new/new_train_triples.json\", 'w') as json_file:\n",
    "    json.dump(new_train_data, json_file,indent=4)\n",
    "    \n",
    "json_file.close()"
   ]
  },
  {
   "cell_type": "code",
   "execution_count": 6,
   "metadata": {},
   "outputs": [
    {
     "name": "stdout",
     "output_type": "stream",
     "text": [
      "训练集数据条数： 475\n",
      "每条数据的样式： dict_keys(['text', 'img_id', 'triple_list', 'ent_pair_list']) \n",
      " {'text': 'RT @DenisLaw_WFT : New breed of Crocodile discovered in South Wales woodland', 'img_id': 'twitter_stream_2018_10_10_13_0_2_142.jpg', 'triple_list': [['Crocodile', 'held_on', 'South Wales', 'misc', 'loc']], 'ent_pair_list': [[[6, 7], [9, 11]]]}\n"
     ]
    }
   ],
   "source": [
    "import json \n",
    "test_data = json.load(open(\"test_triples.json\",'r'))\n",
    "\n",
    "print(\"训练集数据条数：\",len(test_data))\n",
    "print(\"每条数据的样式：\",test_data[0].keys(),\"\\n\",test_data[0])"
   ]
  },
  {
   "cell_type": "code",
   "execution_count": 7,
   "metadata": {},
   "outputs": [],
   "source": [
    "new_test_data = []\n",
    "file_path = \"JMERE_imgs/test/\"\n",
    "image_size = 384\n",
    "\n",
    "for td in test_data:\n",
    "    sample = td\n",
    "    img_path = file_path + td[\"img_id\"]\n",
    "    image = load_demo_image(image_size=image_size,img_path=img_path, device=device)\n",
    "    caption = model.generate(image, sample=False, num_beams=3, max_length=20, min_length=5) \n",
    "    sample[\"img_caption\"] = caption[0]\n",
    "    \n",
    "    # print(sample)\n",
    "    new_test_data.append(sample)\n",
    "    # break\n",
    "    \n",
    "with open(\"JMERE_new/new_test_triples.json\", 'w') as json_file:\n",
    "    json.dump(new_test_data, json_file,indent=4)\n",
    "    \n",
    "json_file.close()"
   ]
  },
  {
   "cell_type": "code",
   "execution_count": 8,
   "metadata": {},
   "outputs": [
    {
     "name": "stdout",
     "output_type": "stream",
     "text": [
      "训练集数据条数： 496\n",
      "每条数据的样式： dict_keys(['text', 'img_id', 'triple_list', 'ent_pair_list']) \n",
      " {'text': 'RT @Am_Blujay : Ronaldo trying to see if Messi is human # ElClasico', 'img_id': 'twitter_stream_2018_05_07_1_0_2_45.jpg', 'triple_list': [['Ronaldo', 'peer', 'Messi', 'per', 'per']], 'ent_pair_list': [[[3, 4], [8, 9]]]}\n"
     ]
    }
   ],
   "source": [
    "import json \n",
    "val_data = json.load(open(\"val_triples.json\",'r'))\n",
    "\n",
    "print(\"训练集数据条数：\",len(val_data))\n",
    "print(\"每条数据的样式：\",val_data[0].keys(),\"\\n\",val_data[0])"
   ]
  },
  {
   "cell_type": "code",
   "execution_count": 9,
   "metadata": {},
   "outputs": [],
   "source": [
    "new_val_data = []\n",
    "file_path = \"JMERE_imgs/val/\"\n",
    "image_size = 384\n",
    "\n",
    "for td in val_data:\n",
    "    sample = td\n",
    "    img_path = file_path + td[\"img_id\"]\n",
    "    image = load_demo_image(image_size=image_size,img_path=img_path, device=device)\n",
    "    caption = model.generate(image, sample=False, num_beams=3, max_length=20, min_length=5) \n",
    "    sample[\"img_caption\"] = caption[0]\n",
    "    \n",
    "    # print(sample)\n",
    "    new_val_data.append(sample)\n",
    "    # break\n",
    "    \n",
    "with open(\"JMERE_new/new_val_triples.json\", 'w') as json_file:\n",
    "    json.dump(new_val_data, json_file,indent=4)\n",
    "    \n",
    "json_file.close()"
   ]
  },
  {
   "cell_type": "code",
   "execution_count": null,
   "metadata": {},
   "outputs": [],
   "source": []
  },
  {
   "cell_type": "markdown",
   "metadata": {},
   "source": [
    "# 在文件中加上  BLIP 评估的img与text相似度值"
   ]
  },
  {
   "cell_type": "code",
   "execution_count": 2,
   "metadata": {},
   "outputs": [
    {
     "name": "stderr",
     "output_type": "stream",
     "text": [
      "/home/users/wgx/anaconda3/envs/Mult/lib/python3.8/site-packages/tqdm/auto.py:21: TqdmWarning: IProgress not found. Please update jupyter and ipywidgets. See https://ipywidgets.readthedocs.io/en/stable/user_install.html\n",
      "  from .autonotebook import tqdm as notebook_tqdm\n"
     ]
    }
   ],
   "source": [
    "from PIL import Image\n",
    "import torch\n",
    "from torchvision import transforms\n",
    "from torchvision.transforms.functional import InterpolationMode\n",
    "import sys\n",
    "sys.path.append('../../Blip/')  # 添加上级目录到sys.path\n",
    "from models.blip_itm import blip_itm\n",
    "\n",
    "\n",
    "def load_demo_image(image_size,img_path,device):\n",
    "    \n",
    "    raw_image = Image.open(img_path) \n",
    "\n",
    "    w,h = raw_image.size\n",
    "    # display(raw_image.resize((w//5,h//5)))\n",
    "    \n",
    "    transform = transforms.Compose([\n",
    "        transforms.Resize((image_size,image_size),interpolation=InterpolationMode.BICUBIC),\n",
    "        transforms.ToTensor(),\n",
    "        transforms.Normalize((0.48145466, 0.4578275, 0.40821073), (0.26862954, 0.26130258, 0.27577711))\n",
    "        ]) \n",
    "    image = transform(raw_image).unsqueeze(0).to(device)   \n",
    "    return image\n",
    "\n"
   ]
  },
  {
   "cell_type": "code",
   "execution_count": 3,
   "metadata": {},
   "outputs": [
    {
     "name": "stdout",
     "output_type": "stream",
     "text": [
      "load checkpoint from /home/users/wgx/Mult_m_NRE/multi-joint-ner-re/Blip/MODELS/model_base_retrieval_coco.pth\n"
     ]
    }
   ],
   "source": [
    "device = torch.device('cuda' if torch.cuda.is_available() else 'cpu')\n",
    "\n",
    "image_size = 384\n",
    "\n",
    "model_url = '/home/users/wgx/Mult_m_NRE/multi-joint-ner-re/Blip/MODELS/model_base_retrieval_coco.pth'\n",
    "    \n",
    "model = blip_itm(pretrained=model_url, image_size=image_size, vit='base')\n",
    "model.eval()\n",
    "model = model.to(device)"
   ]
  },
  {
   "cell_type": "code",
   "execution_count": null,
   "metadata": {},
   "outputs": [],
   "source": [
    "import json \n",
    "train_data = json.load(open(\"train_triples.json\",'r'))\n",
    "\n",
    "print(\"训练集数据条数：\",len(train_data))\n",
    "print(\"每条数据的样式：\",train_data[0].keys(),\"\\n\",train_data[0])\n",
    "\n",
    "new_train_data = []\n",
    "file_path = \"JMERE_imgs/train/\"\n",
    "image_size = 384\n",
    "\n",
    "num = 0\n",
    "\n",
    "for td in train_data:\n",
    "    num+=1\n",
    "    sample = td\n",
    "    \n",
    "    caption = td[\"text\"]\n",
    "    img_path = file_path + td[\"img_id\"]\n",
    "    image = load_demo_image(image_size=image_size,img_path=img_path, device=device)\n",
    "    \n",
    "    \n",
    "    itm_output = model(image,caption,match_head='itm')\n",
    "    itm_score = torch.nn.functional.softmax(itm_output,dim=1)[:,1]\n",
    "    # print('The image and text is matched with a probability of %.4f'%itm_score)\n",
    "\n",
    "    itc_score = model(image,caption,match_head='itc')\n",
    "    # print('The image feature and text feature has a cosine similarity of %.4f'%itc_score)\n",
    "    \n",
    "    sample[\"itm_score\"] = itm_score.cpu().detach().item()\n",
    "    sample[\"itc_score\"] = itc_score.cpu().detach().item()\n",
    "    \n",
    "    # print(sample)\n",
    "    new_train_data.append(sample)\n",
    "    # break\n",
    "    if num %100 ==0:\n",
    "        print(num)\n",
    "    \n",
    "with open(\"JMERE_new2/new_train_triples.json\", 'w') as json_file:\n",
    "    json.dump(new_train_data, json_file,indent=4)\n",
    "    \n",
    "json_file.close()\n",
    "\n",
    "     "
   ]
  },
  {
   "cell_type": "code",
   "execution_count": 25,
   "metadata": {},
   "outputs": [
    {
     "name": "stdout",
     "output_type": "stream",
     "text": [
      "训练集数据条数： 475\n",
      "每条数据的样式： dict_keys(['text', 'img_id', 'triple_list', 'ent_pair_list']) \n",
      " {'text': 'The latest Arkham Horror LCG deluxe expansion the Circle Undone has been released :', 'img_id': 'twitter_19_31_16_6.jpg', 'triple_list': [['Circle Undone', 'part_of', 'Arkham Horror LCG', 'misc', 'misc']], 'ent_pair_list': [[[8, 10], [2, 5]]], 'itm_score': 0.05534002557396889, 'itc_score': 0.30450016260147095}\n",
      "100\n",
      "200\n",
      "300\n",
      "400\n"
     ]
    }
   ],
   "source": [
    "import json \n",
    "test_data = json.load(open(\"test_triples.json\",'r'))\n",
    "\n",
    "print(\"训练集数据条数：\",len(test_data))\n",
    "print(\"每条数据的样式：\",test_data[0].keys(),\"\\n\",test_data[0])\n",
    "\n",
    "new_test_data = []\n",
    "file_path = \"JMERE_imgs/test/\"\n",
    "image_size = 384\n",
    "\n",
    "num = 0\n",
    "\n",
    "for td in test_data:\n",
    "    num+=1\n",
    "    sample = td\n",
    "    \n",
    "    caption = td[\"text\"]\n",
    "    img_path = file_path + td[\"img_id\"]\n",
    "    image = load_demo_image(image_size=image_size,img_path=img_path, device=device)\n",
    "    \n",
    "    \n",
    "    itm_output = model(image,caption,match_head='itm')\n",
    "    itm_score = torch.nn.functional.softmax(itm_output,dim=1)[:,1]\n",
    "    # print('The image and text is matched with a probability of %.4f'%itm_score)\n",
    "\n",
    "    itc_score = model(image,caption,match_head='itc')\n",
    "    # print('The image feature and text feature has a cosine similarity of %.4f'%itc_score)\n",
    "    \n",
    "    sample[\"itm_score\"] = itm_score.cpu().detach().item()\n",
    "    sample[\"itc_score\"] = itc_score.cpu().detach().item()\n",
    "    \n",
    "    # print(sample)\n",
    "    new_test_data.append(sample)\n",
    "    # break\n",
    "    if num %100 ==0:\n",
    "        print(num)\n",
    "    \n",
    "with open(\"JMERE_new2/new_test_triples.json\", 'w') as json_file:\n",
    "    json.dump(new_test_data, json_file,indent=4)\n",
    "    \n",
    "json_file.close()\n",
    "\n",
    "     "
   ]
  },
  {
   "cell_type": "code",
   "execution_count": 26,
   "metadata": {},
   "outputs": [
    {
     "name": "stdout",
     "output_type": "stream",
     "text": [
      "训练集数据条数： 496\n",
      "每条数据的样式： dict_keys(['text', 'img_id', 'triple_list', 'ent_pair_list']) \n",
      " {'text': 'RT @Am_Blujay : Ronaldo trying to see if Messi is human # ElClasico', 'img_id': 'twitter_stream_2018_05_07_1_0_2_45.jpg', 'triple_list': [['Ronaldo', 'peer', 'Messi', 'per', 'per']], 'ent_pair_list': [[[3, 4], [8, 9]]]}\n",
      "100\n",
      "200\n",
      "300\n",
      "400\n"
     ]
    }
   ],
   "source": [
    "import json \n",
    "val_data = json.load(open(\"val_triples.json\",'r'))\n",
    "\n",
    "print(\"训练集数据条数：\",len(val_data))\n",
    "print(\"每条数据的样式：\",val_data[0].keys(),\"\\n\",val_data[0])\n",
    "\n",
    "new_val_data = []\n",
    "file_path = \"JMERE_imgs/val/\"\n",
    "image_size = 384\n",
    "\n",
    "num = 0\n",
    "\n",
    "for td in val_data:\n",
    "    num+=1\n",
    "    sample = td\n",
    "    \n",
    "    caption = td[\"text\"]\n",
    "    img_path = file_path + td[\"img_id\"]\n",
    "    image = load_demo_image(image_size=image_size,img_path=img_path, device=device)\n",
    "    \n",
    "    \n",
    "    itm_output = model(image,caption,match_head='itm')\n",
    "    itm_score = torch.nn.functional.softmax(itm_output,dim=1)[:,1]\n",
    "    # print('The image and text is matched with a probability of %.4f'%itm_score)\n",
    "\n",
    "    itc_score = model(image,caption,match_head='itc')\n",
    "    # print('The image feature and text feature has a cosine similarity of %.4f'%itc_score)\n",
    "    \n",
    "    sample[\"itm_score\"] = itm_score.cpu().detach().item()\n",
    "    sample[\"itc_score\"] = itc_score.cpu().detach().item()\n",
    "    \n",
    "    # print(sample)\n",
    "    new_val_data.append(sample)\n",
    "    # break\n",
    "    if num %100 ==0:\n",
    "        print(num)\n",
    "    \n",
    "with open(\"JMERE_new2/new_val_triples.json\", 'w') as json_file:\n",
    "    json.dump(new_val_data, json_file,indent=4)\n",
    "    \n",
    "json_file.close()\n",
    "\n",
    "     "
   ]
  }
 ],
 "metadata": {
  "kernelspec": {
   "display_name": "Tf49",
   "language": "python",
   "name": "python3"
  },
  "language_info": {
   "codemirror_mode": {
    "name": "ipython",
    "version": 3
   },
   "file_extension": ".py",
   "mimetype": "text/x-python",
   "name": "python",
   "nbconvert_exporter": "python",
   "pygments_lexer": "ipython3",
   "version": "3.8.16"
  },
  "orig_nbformat": 4
 },
 "nbformat": 4,
 "nbformat_minor": 2
}
