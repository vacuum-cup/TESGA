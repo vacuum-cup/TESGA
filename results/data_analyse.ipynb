{
 "cells": [
  {
   "cell_type": "code",
   "execution_count": 3,
   "metadata": {},
   "outputs": [
    {
     "data": {
      "text/plain": [
       "475"
      ]
     },
     "execution_count": 3,
     "metadata": {},
     "output_type": "execute_result"
    }
   ],
   "source": [
    "import json \n",
    "\n",
    "file = open(\"JMEREtest_results.json\",'r')\n",
    "file_data = json.load(file)\n",
    "len(file_data)"
   ]
  },
  {
   "cell_type": "code",
   "execution_count": 4,
   "metadata": {},
   "outputs": [
    {
     "data": {
      "text/plain": [
       "640"
      ]
     },
     "execution_count": 4,
     "metadata": {},
     "output_type": "execute_result"
    }
   ],
   "source": [
    "target_triples = []\n",
    "itc_list = []\n",
    "for d in file_data:\n",
    "    target_triples += d[\"target_list\"]\n",
    "    itc_list.append(d[\"itc_score\"])\n",
    "    \n",
    "len(target_triples)"
   ]
  },
  {
   "cell_type": "code",
   "execution_count": 5,
   "metadata": {},
   "outputs": [
    {
     "data": {
      "text/plain": [
       "143"
      ]
     },
     "execution_count": 5,
     "metadata": {},
     "output_type": "execute_result"
    }
   ],
   "source": [
    "num = 0\n",
    "for itc in itc_list:\n",
    "    if itc <0.35:\n",
    "        num+=1\n",
    "num"
   ]
  },
  {
   "cell_type": "code",
   "execution_count": 6,
   "metadata": {},
   "outputs": [
    {
     "name": "stdout",
     "output_type": "stream",
     "text": [
      "0.581021897810219 0.621875 0.6007547169811319\n"
     ]
    }
   ],
   "source": [
    "correct_num = 0\n",
    "target_num = 0\n",
    "pred_num = 0\n",
    "for d in file_data:\n",
    "    target_num += len(d[\"target_list\"])\n",
    "    pred_num += len(d[\"pred_triple\"])\n",
    "    \n",
    "    target_list = []\n",
    "    for t in d['target_list']:\n",
    "        target_list.append(t[:3])\n",
    "    \n",
    "    for t in d['pred_triple']:\n",
    "        if t in target_list:\n",
    "            correct_num +=1\n",
    "P,R = correct_num/pred_num,correct_num/target_num\n",
    "\n",
    "F1 = 2*P*R/(P+R)\n",
    "\n",
    "print(P,R,F1)"
   ]
  },
  {
   "cell_type": "code",
   "execution_count": 7,
   "metadata": {},
   "outputs": [
    {
     "name": "stdout",
     "output_type": "stream",
     "text": [
      "0.5 0.5305164319248826 0.5148063781321185\n",
      "113 213 226\n"
     ]
    }
   ],
   "source": [
    "correct_num = 0\n",
    "target_num = 0\n",
    "pred_num = 0\n",
    "for d in file_data:\n",
    "    \n",
    "    \n",
    "    if d['itc_score'] <0.36:\n",
    "        target_num += len(d[\"target_list\"])\n",
    "        pred_num += len(d[\"pred_triple\"])\n",
    "        target_list = []\n",
    "        for t in d['target_list']:\n",
    "            target_list.append(t[:3])\n",
    "            \n",
    "        for t in d['pred_triple']:\n",
    "            if t in target_list:\n",
    "                correct_num +=1\n",
    "P,R = correct_num/pred_num,correct_num/target_num\n",
    "\n",
    "F1 = 2*P*R/(P+R)\n",
    "\n",
    "print(P,R,F1)\n",
    "print(correct_num,target_num,pred_num)"
   ]
  },
  {
   "cell_type": "code",
   "execution_count": null,
   "metadata": {},
   "outputs": [],
   "source": []
  }
 ],
 "metadata": {
  "kernelspec": {
   "display_name": "JMERE",
   "language": "python",
   "name": "python3"
  },
  "language_info": {
   "codemirror_mode": {
    "name": "ipython",
    "version": 3
   },
   "file_extension": ".py",
   "mimetype": "text/x-python",
   "name": "python",
   "nbconvert_exporter": "python",
   "pygments_lexer": "ipython3",
   "version": "3.8.-1"
  }
 },
 "nbformat": 4,
 "nbformat_minor": 2
}
